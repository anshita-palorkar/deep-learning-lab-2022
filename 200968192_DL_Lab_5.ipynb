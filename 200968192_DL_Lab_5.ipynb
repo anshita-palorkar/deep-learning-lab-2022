{
  "nbformat": 4,
  "nbformat_minor": 0,
  "metadata": {
    "colab": {
      "provenance": [],
      "collapsed_sections": []
    },
    "kernelspec": {
      "name": "python3",
      "display_name": "Python 3"
    },
    "language_info": {
      "name": "python"
    },
    "accelerator": "GPU",
    "gpuClass": "standard"
  },
  "cells": [
    {
      "cell_type": "code",
      "execution_count": null,
      "metadata": {
        "id": "NMw7-39NwwdN"
      },
      "outputs": [],
      "source": [
        "# importing required libraries\n",
        "import tensorflow as tf\n",
        "from sklearn.datasets import fetch_california_housing\n",
        "from sklearn.model_selection import train_test_split\n",
        "from sklearn.preprocessing import MinMaxScaler\n",
        "import pandas as pd\n",
        "import numpy as np\n",
        "import seaborn as sns\n",
        "import matplotlib.pyplot as plt"
      ]
    },
    {
      "cell_type": "code",
      "source": [
        "# importing the dataset\n",
        "X = pd.DataFrame(fetch_california_housing().data)\n",
        "y = pd.DataFrame(fetch_california_housing().target)"
      ],
      "metadata": {
        "id": "h8KVqeHKx_28"
      },
      "execution_count": null,
      "outputs": []
    },
    {
      "cell_type": "code",
      "source": [
        "# scaling the data\n",
        "scaler = MinMaxScaler()\n",
        "scaled_data = scaler.fit_transform(X, y)\n",
        "X = scaled_data[:, 0:8]\n",
        "y = scaled_data[:, -1]"
      ],
      "metadata": {
        "id": "vwaeSC-82Uqj"
      },
      "execution_count": null,
      "outputs": []
    },
    {
      "cell_type": "code",
      "source": [
        "# train-test-split\n",
        "X_train, X_test, y_train, y_test = train_test_split(X, y, test_size=0.2, random_state=42)"
      ],
      "metadata": {
        "id": "Ieo5v9Bfy49T"
      },
      "execution_count": null,
      "outputs": []
    },
    {
      "cell_type": "code",
      "source": [
        "# building a regression MLP using the sequential API\n",
        "regression_mlp = tf.keras.Sequential([tf.keras.layers.InputLayer(input_shape=8),\n",
        "                                      tf.keras.layers.Dense(30, activation=\"relu\"),\n",
        "                                      tf.keras.layers.Dense(1, activation=\"linear\")])\n",
        "regression_mlp.summary()"
      ],
      "metadata": {
        "colab": {
          "base_uri": "https://localhost:8080/"
        },
        "id": "54Mmbqjl1i7L",
        "outputId": "765479cb-a2b8-4e75-d472-64c2aac71304"
      },
      "execution_count": null,
      "outputs": [
        {
          "output_type": "stream",
          "name": "stdout",
          "text": [
            "Model: \"sequential\"\n",
            "_________________________________________________________________\n",
            " Layer (type)                Output Shape              Param #   \n",
            "=================================================================\n",
            " dense (Dense)               (None, 30)                270       \n",
            "                                                                 \n",
            " dense_1 (Dense)             (None, 1)                 31        \n",
            "                                                                 \n",
            "=================================================================\n",
            "Total params: 301\n",
            "Trainable params: 301\n",
            "Non-trainable params: 0\n",
            "_________________________________________________________________\n"
          ]
        }
      ]
    },
    {
      "cell_type": "code",
      "source": [
        "# training the model\n",
        "regression_mlp.compile(loss='mean_squared_error', optimizer=tf.keras.optimizers.Adam(learning_rate=0.0001), metrics=[tf.keras.metrics.MeanSquaredError()])\n",
        "batch_size = 32\n",
        "epochs = 20\n",
        "\n",
        "history = regression_mlp.fit(X_train, y_train, batch_size, epochs, validation_split=0.3)"
      ],
      "metadata": {
        "colab": {
          "base_uri": "https://localhost:8080/"
        },
        "id": "NQbUveNI5GMK",
        "outputId": "9ce9835e-6396-4759-d55e-6220ba1fa51b"
      },
      "execution_count": null,
      "outputs": [
        {
          "output_type": "stream",
          "name": "stdout",
          "text": [
            "Epoch 1/20\n",
            "362/362 [==============================] - 2s 4ms/step - loss: 0.1833 - mean_squared_error: 0.1833 - val_loss: 0.0928 - val_mean_squared_error: 0.0928\n",
            "Epoch 2/20\n",
            "362/362 [==============================] - 1s 3ms/step - loss: 0.0590 - mean_squared_error: 0.0590 - val_loss: 0.0362 - val_mean_squared_error: 0.0362\n",
            "Epoch 3/20\n",
            "362/362 [==============================] - 2s 5ms/step - loss: 0.0241 - mean_squared_error: 0.0241 - val_loss: 0.0156 - val_mean_squared_error: 0.0156\n",
            "Epoch 4/20\n",
            "362/362 [==============================] - 2s 6ms/step - loss: 0.0107 - mean_squared_error: 0.0107 - val_loss: 0.0075 - val_mean_squared_error: 0.0075\n",
            "Epoch 5/20\n",
            "362/362 [==============================] - 2s 6ms/step - loss: 0.0054 - mean_squared_error: 0.0054 - val_loss: 0.0042 - val_mean_squared_error: 0.0042\n",
            "Epoch 6/20\n",
            "362/362 [==============================] - 2s 5ms/step - loss: 0.0030 - mean_squared_error: 0.0030 - val_loss: 0.0024 - val_mean_squared_error: 0.0024\n",
            "Epoch 7/20\n",
            "362/362 [==============================] - 2s 6ms/step - loss: 0.0017 - mean_squared_error: 0.0017 - val_loss: 0.0014 - val_mean_squared_error: 0.0014\n",
            "Epoch 8/20\n",
            "362/362 [==============================] - 2s 6ms/step - loss: 0.0010 - mean_squared_error: 0.0010 - val_loss: 9.8402e-04 - val_mean_squared_error: 9.8402e-04\n",
            "Epoch 9/20\n",
            "362/362 [==============================] - 3s 8ms/step - loss: 7.5205e-04 - mean_squared_error: 7.5205e-04 - val_loss: 8.0849e-04 - val_mean_squared_error: 8.0849e-04\n",
            "Epoch 10/20\n",
            "362/362 [==============================] - 2s 7ms/step - loss: 6.2231e-04 - mean_squared_error: 6.2231e-04 - val_loss: 6.9977e-04 - val_mean_squared_error: 6.9977e-04\n",
            "Epoch 11/20\n",
            "362/362 [==============================] - 1s 3ms/step - loss: 5.3338e-04 - mean_squared_error: 5.3338e-04 - val_loss: 6.1160e-04 - val_mean_squared_error: 6.1160e-04\n",
            "Epoch 12/20\n",
            "362/362 [==============================] - 1s 3ms/step - loss: 4.5974e-04 - mean_squared_error: 4.5974e-04 - val_loss: 5.3667e-04 - val_mean_squared_error: 5.3667e-04\n",
            "Epoch 13/20\n",
            "362/362 [==============================] - 1s 4ms/step - loss: 3.9540e-04 - mean_squared_error: 3.9540e-04 - val_loss: 4.6810e-04 - val_mean_squared_error: 4.6810e-04\n",
            "Epoch 14/20\n",
            "362/362 [==============================] - 2s 5ms/step - loss: 3.3637e-04 - mean_squared_error: 3.3637e-04 - val_loss: 4.0573e-04 - val_mean_squared_error: 4.0573e-04\n",
            "Epoch 15/20\n",
            "362/362 [==============================] - 2s 6ms/step - loss: 2.8422e-04 - mean_squared_error: 2.8422e-04 - val_loss: 3.4497e-04 - val_mean_squared_error: 3.4497e-04\n",
            "Epoch 16/20\n",
            "362/362 [==============================] - 2s 5ms/step - loss: 2.3664e-04 - mean_squared_error: 2.3664e-04 - val_loss: 2.9332e-04 - val_mean_squared_error: 2.9332e-04\n",
            "Epoch 17/20\n",
            "362/362 [==============================] - 2s 5ms/step - loss: 1.9569e-04 - mean_squared_error: 1.9569e-04 - val_loss: 2.4285e-04 - val_mean_squared_error: 2.4285e-04\n",
            "Epoch 18/20\n",
            "362/362 [==============================] - 2s 6ms/step - loss: 1.5893e-04 - mean_squared_error: 1.5893e-04 - val_loss: 1.9914e-04 - val_mean_squared_error: 1.9914e-04\n",
            "Epoch 19/20\n",
            "362/362 [==============================] - 2s 6ms/step - loss: 1.2720e-04 - mean_squared_error: 1.2720e-04 - val_loss: 1.5907e-04 - val_mean_squared_error: 1.5907e-04\n",
            "Epoch 20/20\n",
            "362/362 [==============================] - 2s 4ms/step - loss: 9.9509e-05 - mean_squared_error: 9.9509e-05 - val_loss: 1.2657e-04 - val_mean_squared_error: 1.2657e-04\n"
          ]
        }
      ]
    },
    {
      "cell_type": "code",
      "source": [
        "# visualising the MSE\n",
        "sns.set_style(\"darkgrid\")\n",
        " \n",
        "# get the details form the history object\n",
        "acc = history.history['mean_squared_error']\n",
        "val_acc = history.history['val_mean_squared_error']\n",
        "epochs = range(1, len(acc) + 1)\n",
        "\n",
        "# Train and validation accuracy\n",
        "plt.plot(epochs, acc, 'b', label='Training MSE')\n",
        "plt.plot(epochs, val_acc, 'r', label='Validation MSE')\n",
        "plt.xlabel('Epoch #')\n",
        "plt.ylabel('MSE')\n",
        "plt.title('Training and Validation MSE')\n",
        "plt.legend()\n",
        "\n",
        "plt.show()"
      ],
      "metadata": {
        "colab": {
          "base_uri": "https://localhost:8080/",
          "height": 295
        },
        "id": "pJfhTmXS8-b5",
        "outputId": "3ac1f3c9-10fd-4c53-8463-9fae6def8968"
      },
      "execution_count": null,
      "outputs": [
        {
          "output_type": "display_data",
          "data": {
            "text/plain": [
              "<Figure size 432x288 with 1 Axes>"
            ],
            "image/png": "[encoded data removed]"
          },
          "metadata": {}
        }
      ]
    },
    {
      "cell_type": "code",
      "source": [
        "# testing the model\n",
        "regression_mlp.evaluate(X_test, y_test)"
      ],
      "metadata": {
        "colab": {
          "base_uri": "https://localhost:8080/"
        },
        "id": "4zxtNItzUHzt",
        "outputId": "62f75404-76d9-4bba-95bb-f9ff1e097279"
      },
      "execution_count": null,
      "outputs": [
        {
          "output_type": "stream",
          "name": "stdout",
          "text": [
            "129/129 [==============================] - 0s 2ms/step - loss: 1.2180e-04 - mean_squared_error: 1.2180e-04\n"
          ]
        },
        {
          "output_type": "execute_result",
          "data": {
            "text/plain": [
              "[0.00012179975601611659, 0.00012179975601611659]"
            ]
          },
          "metadata": {},
          "execution_count": 8
        }
      ]
    },
    {
      "cell_type": "markdown",
      "source": [
        "The MSE is very low due to this being a benchmark dataset."
      ],
      "metadata": {
        "id": "SrigcUaEV4zs"
      }
    },
    {
      "cell_type": "code",
      "source": [
        "# splitting the features for the wide network and deep network\n",
        "inputA = X_train[:, 0:4]\n",
        "inputB = X_train[:, 2:7]"
      ],
      "metadata": {
        "id": "Fq21urnqFVyH"
      },
      "execution_count": null,
      "outputs": []
    },
    {
      "cell_type": "code",
      "source": [
        "# building a wide and deep neural network using the functional API\n",
        "input1 = tf.keras.layers.Input(shape=4)\n",
        "input2 = tf.keras.layers.Input(shape=5)\n",
        "\n",
        "Y = tf.keras.layers.Dense(30, activation=\"relu\")(input2)\n",
        "Y = tf.keras.layers.Dense(30, activation=\"relu\")(Y)\n",
        "Y = tf.keras.layers.Concatenate(axis=1)([input1, Y])\n",
        "outputs = tf.keras.layers.Dense(1, activation=\"linear\")(Y)\n",
        "wide_and_deep_model = tf.keras.Model(inputs=[input1, input2], outputs=outputs)\n",
        "wide_and_deep_model.summary()"
      ],
      "metadata": {
        "colab": {
          "base_uri": "https://localhost:8080/"
        },
        "id": "rftV4fN_Ce-_",
        "outputId": "8a79aeb3-19bc-4e66-b1ea-b8e3ea948177"
      },
      "execution_count": null,
      "outputs": [
        {
          "output_type": "stream",
          "name": "stdout",
          "text": [
            "Model: \"model\"\n",
            "__________________________________________________________________________________________________\n",
            " Layer (type)                   Output Shape         Param #     Connected to                     \n",
            "==================================================================================================\n",
            " input_3 (InputLayer)           [(None, 5)]          0           []                               \n",
            "                                                                                                  \n",
            " dense_2 (Dense)                (None, 30)           180         ['input_3[0][0]']                \n",
            "                                                                                                  \n",
            " input_2 (InputLayer)           [(None, 4)]          0           []                               \n",
            "                                                                                                  \n",
            " dense_3 (Dense)                (None, 30)           930         ['dense_2[0][0]']                \n",
            "                                                                                                  \n",
            " concatenate (Concatenate)      (None, 34)           0           ['input_2[0][0]',                \n",
            "                                                                  'dense_3[0][0]']                \n",
            "                                                                                                  \n",
            " dense_4 (Dense)                (None, 1)            35          ['concatenate[0][0]']            \n",
            "                                                                                                  \n",
            "==================================================================================================\n",
            "Total params: 1,145\n",
            "Trainable params: 1,145\n",
            "Non-trainable params: 0\n",
            "__________________________________________________________________________________________________\n"
          ]
        }
      ]
    },
    {
      "cell_type": "code",
      "source": [
        "# training the model\n",
        "wide_and_deep_model.compile(loss='mean_squared_error', optimizer=tf.keras.optimizers.Adam(learning_rate=0.0001), metrics=[tf.keras.metrics.MeanSquaredError()])\n",
        "batch_size = 32\n",
        "epochs = 20\n",
        "\n",
        "history = wide_and_deep_model.fit([inputA, inputB], y_train, batch_size, epochs, validation_split=0.3)"
      ],
      "metadata": {
        "colab": {
          "base_uri": "https://localhost:8080/"
        },
        "id": "eLLVZBS7_rVZ",
        "outputId": "db3266f3-1737-4371-d643-df9dbc5219ef"
      },
      "execution_count": null,
      "outputs": [
        {
          "output_type": "stream",
          "name": "stdout",
          "text": [
            "Epoch 1/20\n",
            "362/362 [==============================] - 2s 4ms/step - loss: 0.1537 - mean_squared_error: 0.1537 - val_loss: 0.0797 - val_mean_squared_error: 0.0797\n",
            "Epoch 2/20\n",
            "362/362 [==============================] - 1s 3ms/step - loss: 0.0377 - mean_squared_error: 0.0377 - val_loss: 0.0130 - val_mean_squared_error: 0.0130\n",
            "Epoch 3/20\n",
            "362/362 [==============================] - 1s 3ms/step - loss: 0.0092 - mean_squared_error: 0.0092 - val_loss: 0.0082 - val_mean_squared_error: 0.0082\n",
            "Epoch 4/20\n",
            "362/362 [==============================] - 1s 3ms/step - loss: 0.0075 - mean_squared_error: 0.0075 - val_loss: 0.0074 - val_mean_squared_error: 0.0074\n",
            "Epoch 5/20\n",
            "362/362 [==============================] - 1s 3ms/step - loss: 0.0069 - mean_squared_error: 0.0069 - val_loss: 0.0069 - val_mean_squared_error: 0.0069\n",
            "Epoch 6/20\n",
            "362/362 [==============================] - 1s 3ms/step - loss: 0.0064 - mean_squared_error: 0.0064 - val_loss: 0.0065 - val_mean_squared_error: 0.0065\n",
            "Epoch 7/20\n",
            "362/362 [==============================] - 1s 3ms/step - loss: 0.0060 - mean_squared_error: 0.0060 - val_loss: 0.0062 - val_mean_squared_error: 0.0062\n",
            "Epoch 8/20\n",
            "362/362 [==============================] - 1s 3ms/step - loss: 0.0056 - mean_squared_error: 0.0056 - val_loss: 0.0058 - val_mean_squared_error: 0.0058\n",
            "Epoch 9/20\n",
            "362/362 [==============================] - 1s 3ms/step - loss: 0.0053 - mean_squared_error: 0.0053 - val_loss: 0.0055 - val_mean_squared_error: 0.0055\n",
            "Epoch 10/20\n",
            "362/362 [==============================] - 1s 3ms/step - loss: 0.0050 - mean_squared_error: 0.0050 - val_loss: 0.0052 - val_mean_squared_error: 0.0052\n",
            "Epoch 11/20\n",
            "362/362 [==============================] - 1s 3ms/step - loss: 0.0047 - mean_squared_error: 0.0047 - val_loss: 0.0049 - val_mean_squared_error: 0.0049\n",
            "Epoch 12/20\n",
            "362/362 [==============================] - 1s 3ms/step - loss: 0.0045 - mean_squared_error: 0.0045 - val_loss: 0.0047 - val_mean_squared_error: 0.0047\n",
            "Epoch 13/20\n",
            "362/362 [==============================] - 1s 3ms/step - loss: 0.0043 - mean_squared_error: 0.0043 - val_loss: 0.0045 - val_mean_squared_error: 0.0045\n",
            "Epoch 14/20\n",
            "362/362 [==============================] - 1s 3ms/step - loss: 0.0041 - mean_squared_error: 0.0041 - val_loss: 0.0044 - val_mean_squared_error: 0.0044\n",
            "Epoch 15/20\n",
            "362/362 [==============================] - 1s 3ms/step - loss: 0.0040 - mean_squared_error: 0.0040 - val_loss: 0.0043 - val_mean_squared_error: 0.0043\n",
            "Epoch 16/20\n",
            "362/362 [==============================] - 1s 3ms/step - loss: 0.0039 - mean_squared_error: 0.0039 - val_loss: 0.0042 - val_mean_squared_error: 0.0042\n",
            "Epoch 17/20\n",
            "362/362 [==============================] - 1s 3ms/step - loss: 0.0038 - mean_squared_error: 0.0038 - val_loss: 0.0041 - val_mean_squared_error: 0.0041\n",
            "Epoch 18/20\n",
            "362/362 [==============================] - 1s 3ms/step - loss: 0.0037 - mean_squared_error: 0.0037 - val_loss: 0.0040 - val_mean_squared_error: 0.0040\n",
            "Epoch 19/20\n",
            "362/362 [==============================] - 1s 3ms/step - loss: 0.0037 - mean_squared_error: 0.0037 - val_loss: 0.0040 - val_mean_squared_error: 0.0040\n",
            "Epoch 20/20\n",
            "362/362 [==============================] - 1s 3ms/step - loss: 0.0036 - mean_squared_error: 0.0036 - val_loss: 0.0039 - val_mean_squared_error: 0.0039\n"
          ]
        }
      ]
    },
    {
      "cell_type": "code",
      "source": [
        "# visualising the MSE\n",
        "sns.set_style(\"darkgrid\")\n",
        " \n",
        "# get the details form the history object\n",
        "acc = history.history['mean_squared_error']\n",
        "val_acc = history.history['val_mean_squared_error']\n",
        "epochs = range(1, len(acc) + 1)\n",
        "\n",
        "# Train and validation accuracy\n",
        "plt.plot(epochs, acc, 'b', label='Training MSE')\n",
        "plt.plot(epochs, val_acc, 'r', label='Validation MSE')\n",
        "plt.xlabel('Epoch #')\n",
        "plt.ylabel('MSE')\n",
        "plt.title('Training and Validation MSE')\n",
        "plt.legend()\n",
        "\n",
        "plt.show()"
      ],
      "metadata": {
        "colab": {
          "base_uri": "https://localhost:8080/",
          "height": 295
        },
        "id": "hRyLda4DUWhN",
        "outputId": "7149fa1a-0a80-41db-dab9-6ce3c3cea020"
      },
      "execution_count": null,
      "outputs": [
        {
          "output_type": "display_data",
          "data": {
            "text/plain": [
              "<Figure size 432x288 with 1 Axes>"
            ],
            "image/png": "[encoded data removed]"
          },
          "metadata": {}
        }
      ]
    },
    {
      "cell_type": "code",
      "source": [
        "# testing the model\n",
        "wide_and_deep_model.evaluate([X_test[:, 0:4], X_test[:, 2:7]], y_test) "
      ],
      "metadata": {
        "colab": {
          "base_uri": "https://localhost:8080/"
        },
        "id": "6YcWVkZUUchd",
        "outputId": "fa319a33-3cd3-45bf-baef-fd95027980c6"
      },
      "execution_count": null,
      "outputs": [
        {
          "output_type": "stream",
          "name": "stdout",
          "text": [
            "129/129 [==============================] - 0s 2ms/step - loss: 0.0036 - mean_squared_error: 0.0036\n"
          ]
        },
        {
          "output_type": "execute_result",
          "data": {
            "text/plain": [
              "[0.0035786363296210766, 0.0035786363296210766]"
            ]
          },
          "metadata": {},
          "execution_count": 13
        }
      ]
    },
    {
      "cell_type": "markdown",
      "source": [
        "The MSE is low, but not as low as the regression MLP as the dataset here is not large enough to properly optimize the model."
      ],
      "metadata": {
        "id": "0ZS6xBBZWZod"
      }
    }
  ]
}